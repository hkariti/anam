{
 "cells": [
  {
   "cell_type": "markdown",
   "metadata": {},
   "source": [
    "## Question 3"
   ]
  },
  {
   "cell_type": "code",
   "execution_count": 1,
   "metadata": {},
   "outputs": [],
   "source": [
    "import numpy as np"
   ]
  },
  {
   "cell_type": "code",
   "execution_count": 82,
   "metadata": {},
   "outputs": [],
   "source": [
    "def pca(X, d):\n",
    "    X_means = np.average(X, axis=1)[:, np.newaxis]\n",
    "    X_centered = X - X_means\n",
    "    cov_matrix = X_centered.dot(X_centered.transpose())\n",
    "    eigenvalues, eigenvectors = np.linalg.eig(cov_matrix)\n",
    "    largest_indices = (-eigenvalues).argsort()\n",
    "    top_d_indices = largest_indices[:d]\n",
    "    top_d_vectors = eigenvectors[:,top_d_indices].T\n",
    "    projection = top_d_vectors.dot(X_centered)\n",
    "    return projection"
   ]
  }
 ],
 "metadata": {
  "kernelspec": {
   "display_name": "Python 3",
   "language": "python",
   "name": "python3"
  },
  "language_info": {
   "codemirror_mode": {
    "name": "ipython",
    "version": 3
   },
   "file_extension": ".py",
   "mimetype": "text/x-python",
   "name": "python",
   "nbconvert_exporter": "python",
   "pygments_lexer": "ipython3",
   "version": "3.7.0"
  }
 },
 "nbformat": 4,
 "nbformat_minor": 2
}
