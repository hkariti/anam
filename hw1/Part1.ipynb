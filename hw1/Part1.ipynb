{
 "cells": [
  {
   "cell_type": "markdown",
   "metadata": {},
   "source": [
    "# Python"
   ]
  },
  {
   "cell_type": "markdown",
   "metadata": {},
   "source": [
    "Interpreted language(Matlab) rather than compiled language(C) - less programmer time, more CPU time.\n",
    "\n",
    " - Open source\n",
    " - Online community\n",
    " - Easy to learn, similar to Matlab\n",
    " - Very usefull for data analysis "
   ]
  },
  {
   "cell_type": "markdown",
   "metadata": {},
   "source": [
    "Development environments:\n",
    " - Terminal / Shell based\n",
    " - IDE (default environment)\n",
    " - iPython/Jupyter notebook"
   ]
  },
  {
   "cell_type": "markdown",
   "metadata": {},
   "source": [
    "We recomend installing Anaconda 3.6 from:\n",
    "https://www.continuum.io/downloads.\n",
    "\n",
    "Moreover, Anaconda installiation includes Spyder, a MATLAB-like interface, and Jupyter, a Python notebook with the ability to write code and notes in the same document.\n",
    "\n",
    "In order to run the Jupyter notebook consult:\n",
    "http://jupyter-notebook-beginner-guide.readthedocs.io/en/latest/execute.html\n",
    "\n"
   ]
  },
  {
   "cell_type": "markdown",
   "metadata": {},
   "source": [
    "Important libraries:\n",
    " - NumPy stands for Numerical Python. The most powerful feature of NumPy is n-dimensional array (Matlab vectors). This library also contains basic linear algebra functions, Fourier transforms,  advanced random number capabilities and tools for integration with other low level languages like Fortran, C and C++.\n",
    " - SciPy stands for Scientific Python. SciPy is built on NumPy. It is one of the most useful library for variety of high level science and engineering modules like discrete Fourier transform, Linear Algebra, Optimization and Sparse matrices.\n",
    " - Matplotlib for plotting vast variety of graphs, starting from histograms to line plots to heat plots.. You can use Pylab feature in ipython notebook (ipython notebook –pylab = inline) to use these plotting features inline. If you ignore the inline option, then pylab converts ipython environment to an environment, very similar to Matlab. You can also use Latex commands to add math to your plot\n",
    " - Pandas for structured data operations and manipulations. It is extensively used for data munging and preparation. Pandas were added relatively recently to Python and have been instrumental in boosting Python’s usage in data scientist community.\n",
    " - Scikit Learn for machine learning. Built on NumPy, SciPy and matplotlib, this library contains a lot of effiecient tools for machine learning and statistical modeling including classification, regression, clustering and dimensionality reduction."
   ]
  },
  {
   "cell_type": "markdown",
   "metadata": {},
   "source": [
    "# Python crush course - loops, variables, functions, ploting"
   ]
  },
  {
   "cell_type": "markdown",
   "metadata": {},
   "source": [
    "Loops"
   ]
  },
  {
   "cell_type": "code",
   "execution_count": 6,
   "metadata": {
    "collapsed": false
   },
   "outputs": [
    {
     "name": "stdout",
     "output_type": "stream",
     "text": [
      "2\n",
      "4\n",
      "63\n",
      "8\n"
     ]
    }
   ],
   "source": [
    "for i in 2, 4, 63, 8: # python indent, loop struct\n",
    "    print(i)"
   ]
  },
  {
   "cell_type": "code",
   "execution_count": 7,
   "metadata": {
    "collapsed": false,
    "scrolled": true
   },
   "outputs": [
    {
     "name": "stdout",
     "output_type": "stream",
     "text": [
      "0\n",
      "1\n",
      "2\n",
      "3\n",
      "4\n",
      "5\n",
      "6\n",
      "7\n",
      "8\n",
      "9\n"
     ]
    }
   ],
   "source": [
    "for i in range(10): # python arrays from 0\n",
    "    print(i)"
   ]
  },
  {
   "cell_type": "code",
   "execution_count": 8,
   "metadata": {
    "collapsed": false,
    "scrolled": true
   },
   "outputs": [
    {
     "name": "stdout",
     "output_type": "stream",
     "text": [
      "1\n",
      "2\n",
      "3\n",
      "4\n",
      "5\n",
      "6\n",
      "7\n",
      "8\n",
      "9\n"
     ]
    }
   ],
   "source": [
    "for i in range(1,10):\n",
    "    print(i)"
   ]
  },
  {
   "cell_type": "code",
   "execution_count": 9,
   "metadata": {
    "collapsed": false
   },
   "outputs": [
    {
     "name": "stdout",
     "output_type": "stream",
     "text": [
      "11\n"
     ]
    }
   ],
   "source": [
    "counter = 0\n",
    "for i in 1, 3, 7:\n",
    "    counter += i\n",
    "print(counter)"
   ]
  },
  {
   "cell_type": "markdown",
   "metadata": {},
   "source": [
    "Functions"
   ]
  },
  {
   "cell_type": "code",
   "execution_count": 10,
   "metadata": {
    "collapsed": false
   },
   "outputs": [
    {
     "name": "stdout",
     "output_type": "stream",
     "text": [
      "Hello Miranda\n",
      "Hello Fred\n"
     ]
    }
   ],
   "source": [
    "def hello(name):\n",
    "    print(\"Hello \" + name)\n",
    "\n",
    "hello(\"Miranda\")\n",
    "hello(\"Fred\")"
   ]
  },
  {
   "cell_type": "markdown",
   "metadata": {},
   "source": [
    "Conditionals"
   ]
  },
  {
   "cell_type": "code",
   "execution_count": 11,
   "metadata": {
    "collapsed": false
   },
   "outputs": [
    {
     "name": "stdout",
     "output_type": "stream",
     "text": [
      "Not turning at all\n"
     ]
    }
   ],
   "source": [
    "angle = 0\n",
    "if angle > 0:\n",
    "    print(\"Turning clockwise\")\n",
    "elif angle < 0:\n",
    "    print(\"Turning anticlockwise\")\n",
    "else:\n",
    "    print(\"Not turning at all\")"
   ]
  },
  {
   "cell_type": "markdown",
   "metadata": {},
   "source": [
    "Ploting"
   ]
  },
  {
   "cell_type": "code",
   "execution_count": 12,
   "metadata": {
    "collapsed": false
   },
   "outputs": [
    {
     "name": "stdout",
     "output_type": "stream",
     "text": [
      "Populating the interactive namespace from numpy and matplotlib\n"
     ]
    },
    {
     "name": "stderr",
     "output_type": "stream",
     "text": [
      "WARNING: pylab import has clobbered these variables: ['angle']\n",
      "`%matplotlib` prevents importing * from pylab and numpy\n"
     ]
    }
   ],
   "source": [
    "pylab inline"
   ]
  },
  {
   "cell_type": "code",
   "execution_count": 16,
   "metadata": {
    "collapsed": false
   },
   "outputs": [
    {
     "data": {
      "text/plain": [
       "[<matplotlib.lines.Line2D at 0x7e29438>]"
      ]
     },
     "execution_count": 16,
     "metadata": {},
     "output_type": "execute_result"
    },
    {
     "data": {
      "image/png": "[encoded data removed]",
      "text/plain": [
       "<matplotlib.figure.Figure at 0x7918cf8>"
      ]
     },
     "metadata": {},
     "output_type": "display_data"
    }
   ],
   "source": [
    "x = linspace(0, 10)\n",
    "y =sin(x)\n",
    "plot(x, y)"
   ]
  },
  {
   "cell_type": "markdown",
   "metadata": {},
   "source": [
    "# Data structures"
   ]
  },
  {
   "cell_type": "code",
   "execution_count": 18,
   "metadata": {
    "collapsed": false
   },
   "outputs": [],
   "source": [
    "x = 9          # numbers\n",
    "a = \"hello\"    # strings\n",
    "b = False      # booleans"
   ]
  },
  {
   "cell_type": "markdown",
   "metadata": {},
   "source": [
    "Lists"
   ]
  },
  {
   "cell_type": "code",
   "execution_count": 19,
   "metadata": {
    "collapsed": false
   },
   "outputs": [],
   "source": [
    "reading_list = []\n",
    "reading_list.append(\"Aggarwal\")\n",
    "reading_list.append(\"Bishop\")\n",
    "reading_list.append(\"Lutz\")"
   ]
  },
  {
   "cell_type": "code",
   "execution_count": 20,
   "metadata": {
    "collapsed": false
   },
   "outputs": [],
   "source": [
    "reading_list2 = [ \"Aggarwal\", \"Bishop\", \"Lutz\" ]"
   ]
  },
  {
   "cell_type": "code",
   "execution_count": 21,
   "metadata": {
    "collapsed": true
   },
   "outputs": [],
   "source": [
    "reading_list.remove(\"Lutz\")"
   ]
  },
  {
   "cell_type": "code",
   "execution_count": 22,
   "metadata": {
    "collapsed": false
   },
   "outputs": [
    {
     "name": "stdout",
     "output_type": "stream",
     "text": [
      "reading_list:\n",
      "Aggarwal\n",
      "Bishop\n",
      "reading_list2:\n",
      "Aggarwal\n",
      "Bishop\n",
      "Lutz\n"
     ]
    }
   ],
   "source": [
    "print('reading_list:')\n",
    "for item in reading_list:\n",
    "    print(item)\n",
    "print('reading_list2:')\n",
    "for item in reading_list2:\n",
    "    print(item)"
   ]
  },
  {
   "cell_type": "code",
   "execution_count": 23,
   "metadata": {
    "collapsed": false
   },
   "outputs": [
    {
     "name": "stdout",
     "output_type": "stream",
     "text": [
      "Wrong book!\n"
     ]
    }
   ],
   "source": [
    "if \"Lutz\" in reading_list2:\n",
    "    print(\"Wrong book!\")\n",
    "\n",
    "if \"Aggarwal\" not in reading_list:\n",
    "    print(\"Wrong course!\")\n",
    "    shopping_list.append(\"Aggarwal\")"
   ]
  },
  {
   "cell_type": "markdown",
   "metadata": {
    "collapsed": true
   },
   "source": [
    "Dictionaries - key and value pairs"
   ]
  },
  {
   "cell_type": "code",
   "execution_count": 24,
   "metadata": {
    "collapsed": false
   },
   "outputs": [],
   "source": [
    "foods = {}"
   ]
  },
  {
   "cell_type": "code",
   "execution_count": 25,
   "metadata": {
    "collapsed": false
   },
   "outputs": [],
   "source": [
    "foods[\"banana\"] = \"A delicious and tasty treat!\"\n",
    "foods[\"dirt\"]   = \"Not delicious. Not tasty. DO NOT EAT!\""
   ]
  },
  {
   "cell_type": "code",
   "execution_count": 26,
   "metadata": {
    "collapsed": false
   },
   "outputs": [
    {
     "data": {
      "text/plain": [
       "{'banana': 'A delicious and tasty treat!',\n",
       " 'dirt': 'Not delicious. Not tasty. DO NOT EAT!'}"
      ]
     },
     "execution_count": 26,
     "metadata": {},
     "output_type": "execute_result"
    }
   ],
   "source": [
    "foods"
   ]
  },
  {
   "cell_type": "code",
   "execution_count": 27,
   "metadata": {
    "collapsed": false
   },
   "outputs": [
    {
     "data": {
      "text/plain": [
       "'A delicious and tasty treat!'"
      ]
     },
     "execution_count": 27,
     "metadata": {},
     "output_type": "execute_result"
    }
   ],
   "source": [
    "foods[\"banana\"]"
   ]
  },
  {
   "cell_type": "code",
   "execution_count": 28,
   "metadata": {
    "collapsed": false
   },
   "outputs": [],
   "source": [
    "if \"cheese\" in foods:\n",
    "    print(\"Cheese is one of the known foods!\")\n",
    "    print(foods[\"cheese\"])"
   ]
  },
  {
   "cell_type": "code",
   "execution_count": 29,
   "metadata": {
    "collapsed": false
   },
   "outputs": [],
   "source": [
    "del foods[\"dirt\"]"
   ]
  },
  {
   "cell_type": "markdown",
   "metadata": {},
   "source": [
    "Lists and Dictionaries"
   ]
  },
  {
   "cell_type": "code",
   "execution_count": 30,
   "metadata": {
    "collapsed": false
   },
   "outputs": [],
   "source": [
    "ingredients = {}\n",
    "ingredients[\"blt sandwich\"] = [\"bread\", \"lettuce\", \"tomato\", \"bacon\"]"
   ]
  },
  {
   "cell_type": "code",
   "execution_count": 31,
   "metadata": {
    "collapsed": false
   },
   "outputs": [
    {
     "data": {
      "text/plain": [
       "[{'name': 'Germany', 'population': 81000000},\n",
       " {'name': 'Luxembourg', 'population': 512000}]"
      ]
     },
     "execution_count": 31,
     "metadata": {},
     "output_type": "execute_result"
    }
   ],
   "source": [
    "europe = []\n",
    "germany = {\"name\": \"Germany\", \"population\": 81000000}\n",
    "europe.append(germany)\n",
    "luxembourg = {\"name\": \"Luxembourg\", \"population\": 512000}\n",
    "europe.append(luxembourg)\n",
    "europe"
   ]
  },
  {
   "cell_type": "markdown",
   "metadata": {},
   "source": [
    "# Text files"
   ]
  },
  {
   "cell_type": "code",
   "execution_count": 32,
   "metadata": {
    "collapsed": false
   },
   "outputs": [
    {
     "name": "stdout",
     "output_type": "stream",
     "text": [
      "January\n",
      "February\n",
      "March\n",
      "April\n",
      "May\n",
      "June\n",
      "July\n",
      "August\n",
      "September\n",
      "October\n",
      "November\n",
      "December\n"
     ]
    }
   ],
   "source": [
    "f = open(\"month.txt\")\n",
    "print(f.read())"
   ]
  },
  {
   "cell_type": "markdown",
   "metadata": {},
   "source": [
    "What just happend?"
   ]
  },
  {
   "cell_type": "markdown",
   "metadata": {},
   "source": [
    "The open function creates a file object (a way of getting at the contents of the file), which is then stored in the variable f.\n",
    "\n",
    "f.read() tells the file object to read the full contents of the file, and return it as a string."
   ]
  },
  {
   "cell_type": "code",
   "execution_count": 33,
   "metadata": {
    "collapsed": false
   },
   "outputs": [
    {
     "name": "stdout",
     "output_type": "stream",
     "text": [
      "J\n",
      "a\n",
      "n\n",
      "u\n",
      "a\n",
      "r\n",
      "y\n",
      "\n",
      "\n",
      "F\n",
      "e\n",
      "b\n",
      "r\n",
      "u\n",
      "a\n",
      "r\n",
      "y\n",
      "\n",
      "\n",
      "M\n",
      "a\n",
      "r\n",
      "c\n",
      "h\n",
      "\n",
      "\n",
      "A\n",
      "p\n",
      "r\n",
      "i\n",
      "l\n",
      "\n",
      "\n",
      "M\n",
      "a\n",
      "y\n",
      "\n",
      "\n",
      "J\n",
      "u\n",
      "n\n",
      "e\n",
      "\n",
      "\n",
      "J\n",
      "u\n",
      "l\n",
      "y\n",
      "\n",
      "\n",
      "A\n",
      "u\n",
      "g\n",
      "u\n",
      "s\n",
      "t\n",
      "\n",
      "\n",
      "S\n",
      "e\n",
      "p\n",
      "t\n",
      "e\n",
      "m\n",
      "b\n",
      "e\n",
      "r\n",
      "\n",
      "\n",
      "O\n",
      "c\n",
      "t\n",
      "o\n",
      "b\n",
      "e\n",
      "r\n",
      "\n",
      "\n",
      "N\n",
      "o\n",
      "v\n",
      "e\n",
      "m\n",
      "b\n",
      "e\n",
      "r\n",
      "\n",
      "\n",
      "D\n",
      "e\n",
      "c\n",
      "e\n",
      "m\n",
      "b\n",
      "e\n",
      "r\n"
     ]
    }
   ],
   "source": [
    "f = open(\"month.txt\")\n",
    "next = f.read(1)\n",
    "while next != \"\":\n",
    "    print(next)\n",
    "    next = f.read(1)"
   ]
  },
  {
   "cell_type": "markdown",
   "metadata": {},
   "source": [
    "readline() also returns the newline \\n\n",
    "print() automatically appends a newline\n",
    ".strip() method strips newlines (and other \"whitespace\" characters)"
   ]
  },
  {
   "cell_type": "code",
   "execution_count": 34,
   "metadata": {
    "collapsed": false
   },
   "outputs": [
    {
     "name": "stdout",
     "output_type": "stream",
     "text": [
      "January\n",
      "February\n",
      "March\n",
      "April\n",
      "May\n",
      "June\n",
      "July\n",
      "August\n",
      "September\n",
      "October\n",
      "November\n",
      "December\n"
     ]
    }
   ],
   "source": [
    "mode = 3\n",
    "f = open(\"month.txt\")\n",
    "next = f.readline()\n",
    "while next != \"\":\n",
    "    if mode == 0:\n",
    "        print(next)\n",
    "        next = f.readline()\n",
    "    elif mode == 1:\n",
    "        print(next.strip())\n",
    "        next = f.readline()\n",
    "    elif mode == 2:\n",
    "        next = next.strip()\n",
    "        print(next)\n",
    "        next = f.readline()\n",
    "    elif mode == 3:\n",
    "        next = next.strip(\"\\n\")\n",
    "        print(next)\n",
    "        next = f.readline()\n"
   ]
  },
  {
   "cell_type": "markdown",
   "metadata": {},
   "source": [
    "The readlines() method reads all the lines in a file and returns them as a Python list."
   ]
  },
  {
   "cell_type": "code",
   "execution_count": 35,
   "metadata": {
    "collapsed": false
   },
   "outputs": [
    {
     "name": "stdout",
     "output_type": "stream",
     "text": [
      "['January\\n', 'February\\n', 'March\\n', 'April\\n', 'May\\n', 'June\\n', 'July\\n', 'August\\n', 'September\\n', 'October\\n', 'November\\n', 'December']\n"
     ]
    }
   ],
   "source": [
    "f = open(\"month.txt\")\n",
    "print(f.readlines())"
   ]
  },
  {
   "cell_type": "code",
   "execution_count": 36,
   "metadata": {
    "collapsed": false
   },
   "outputs": [
    {
     "name": "stdout",
     "output_type": "stream",
     "text": [
      "Month January\n",
      "Month February\n",
      "Month March\n",
      "Month April\n",
      "Month May\n",
      "Month June\n",
      "Month July\n",
      "Month August\n",
      "Month September\n",
      "Month October\n",
      "Month November\n",
      "Month December\n"
     ]
    }
   ],
   "source": [
    "f = open(\"month.txt\")\n",
    "for month in f.readlines():\n",
    "   print(\"Month \" + month.strip())"
   ]
  },
  {
   "cell_type": "markdown",
   "metadata": {},
   "source": [
    "In fact, you don't even have to call readlines() - Python assumes that if you try to iterate through a text file with a for loop, you probably want to iterate through it line by line:"
   ]
  },
  {
   "cell_type": "code",
   "execution_count": 37,
   "metadata": {
    "collapsed": false
   },
   "outputs": [
    {
     "name": "stdout",
     "output_type": "stream",
     "text": [
      "Month January\n",
      "Month February\n",
      "Month March\n",
      "Month April\n",
      "Month May\n",
      "Month June\n",
      "Month July\n",
      "Month August\n",
      "Month September\n",
      "Month October\n",
      "Month November\n",
      "Month December\n"
     ]
    }
   ],
   "source": [
    "f = open(\"month.txt\")\n",
    "for month in f:\n",
    "   print(\"Month \" + month.strip())"
   ]
  },
  {
   "cell_type": "code",
   "execution_count": 38,
   "metadata": {
    "collapsed": false
   },
   "outputs": [],
   "source": [
    "f = open(\"myfile.txt\", \"w\")"
   ]
  },
  {
   "cell_type": "markdown",
   "metadata": {},
   "source": [
    "When you open() a file, you can optionally specify a file mode, which tells Python what you want to do with the file. The default mode is r for read, but another mode is w to write to a file"
   ]
  },
  {
   "cell_type": "markdown",
   "metadata": {},
   "source": [
    "Tip: the write (w) mode will write completely new contents to a file, wiping out what it had previously!"
   ]
  },
  {
   "cell_type": "code",
   "execution_count": 39,
   "metadata": {
    "collapsed": false
   },
   "outputs": [],
   "source": [
    "f = open(\"myfile.txt\", \"w\")\n",
    "f.write(\"Hello!\")\n",
    "f.close()"
   ]
  },
  {
   "cell_type": "code",
   "execution_count": 40,
   "metadata": {
    "collapsed": false
   },
   "outputs": [
    {
     "name": "stdout",
     "output_type": "stream",
     "text": [
      "['Hello!']\n"
     ]
    }
   ],
   "source": [
    "f = open(\"myfile.txt\")\n",
    "print(f.readlines())"
   ]
  },
  {
   "cell_type": "markdown",
   "metadata": {},
   "source": [
    "# Strings"
   ]
  },
  {
   "cell_type": "code",
   "execution_count": 41,
   "metadata": {
    "collapsed": false,
    "scrolled": true
   },
   "outputs": [
    {
     "name": "stdout",
     "output_type": "stream",
     "text": [
      "Evie Pulsford voted for April Cross\n",
      "Matilda Condon voted for April Cross\n",
      "Samantha Mansell voted for Champion\n",
      "geronima trevisani voted for cherry belle\n",
      "Alexandra Shoebridge voted for Snow Belle\n",
      "Sarah Ahuia Ova voted for Snow Belle\n",
      "Emma Slattery voted for Bunny Tail\n",
      "Fabiana  Milanesi voted for Champion\n",
      "Makayla McMinn voted for Snow Belle\n",
      "Julian O'Leary voted for Sicily Giant\n",
      "Hannah Collie voted for Bunny Tail\n",
      "Toby Lundie voted for Plum Purple\n",
      "Baldo Palerma voted for Champion\n",
      "Phoebe Barwell voted for Plum Purple\n",
      "Sheng Shen voted for Champion\n",
      "Jonathan Rolph voted for Snow Belle\n",
      "Aaron Yarnold voted for Red King\n",
      "Indiana angwin voted for  Daikon\n",
      "Luke Komine voted for White Icicle\n",
      "Blake Ricardo voted for Daikon\n",
      "Mikayla Biddell voted for Daikon\n",
      "Piper Wheelwright voted for Bunny Tail\n",
      "Bailey Derrington voted for White Icicle\n",
      "Eufrosina Ferri voted for Daikon\n",
      "Madeleine Abrahams voted for Daikon\n",
      "Indiana Cowper voted for Sicily Giant\n",
      "Procopio Zito voted for Red King\n",
      "Ryan Langley voted for French Breakfast\n",
      "anthony Gairdner voted for French Breakfast\n",
      "Darcy Kayser voted for Champion\n",
      "Adelmo De Luca voted for Plum Purple\n",
      "Sienna Hovell voted for Champion\n",
      "Mary Cardell voted for April Cross\n",
      "Ebony Agnes voted for Daikon\n",
      "Lola Atkinson voted for Plum Purple\n",
      "Jonathan Walton voted for Champion\n",
      "Tristan Gwynn voted for Red King\n",
      "Jackson Longman voted for Red King\n",
      "Archer Dodds voted for April Cross\n",
      "Lilian Burne voted for French Breakfast\n",
      "Ava McNaughtan voted for April Cross\n",
      "Nate Shelley voted for Daikon\n",
      "Antonia Buccho voted for Champion\n",
      "Kaitlyn Rudduck voted for Cherry Belle\n",
      "Skye Thynne voted for Champion\n",
      "Ethan Collings voted for Plum Purple\n",
      "Finn Leverrier voted for Plum Purple\n",
      "Lee T'an voted for Plum Purple\n",
      "Tyler Forbes voted for White Icicle\n",
      "abbey dunkley voted for  plum purple\n",
      "rose stacy voted for french breakfast\n",
      "Gianfranco Cremonesi voted for White Icicle\n",
      "Grace Wentworth voted for French Breakfast\n",
      "Cooper Menkens voted for  Snow Belle\n",
      "Scarlett Macdougall voted for French Breakfast\n",
      "Fabio Pugliesi voted for Bunny Tail\n",
      "Keira Wrenfordsley voted for Red King\n",
      "Daniel Krimper voted for  Plum Purple\n",
      "Anna Deniehy voted for April Cross\n",
      "Sabrina Beneventi voted for Cherry Belle\n",
      "Oliver Potts voted for Snow Belle\n",
      "Milla Winn voted for Plum Purple\n",
      "Finn Whitworth voted for Sicily Giant\n",
      "Sophie Keynes voted for Plum Purple\n",
      "Joel Brownell voted for Plum Purple\n",
      "Jonathan Parsons voted for French Breakfast\n",
      "Amelia Ellwood voted for Snow Belle\n",
      "Lincoln Gatehouse voted for Bunny Tail\n",
      "Jin Huang voted for Daikon\n",
      "Kuan-Yin Sun voted for Champion\n",
      "Tao Hsiao voted for White Icicle\n",
      "Emily Walters voted for White Icicle\n",
      "nicholas kirby voted for french breakfast\n",
      "Hong Tsui voted for April Cross\n",
      "Mikayla Fullagar voted for Cherry Belle\n",
      "Lola Catchpole voted for April Cross\n",
      "Lelia Toscani voted for Bunny Tail\n",
      "Natasha Prout voted for Cherry Belle\n",
      "Raffaello Schiavone voted for Red King\n",
      "Erin Stephen voted for Plum Purple\n",
      "Eve Peacock voted for Daikon\n",
      "Jordan Manning voted for Sicily Giant\n",
      "Tyler Lister voted for April Cross\n",
      "brodie agnew voted for daikon\n",
      "Lincoln Hirschfeld voted for Champion\n",
      "Ciriaca Genovesi voted for Bunny Tail\n",
      "Dewei Niu voted for Snow Belle\n",
      "Fai Teng voted for Bunny Tail\n",
      "Rossana Cattaneo voted for  Snow Belle\n",
      "Isabelle Coombes voted for Daikon\n",
      "Layla Hitchcock voted for Red King\n",
      "Ashley Brigstocke voted for Red King\n",
      "Lei Tai voted for Daikon\n",
      "Victoria Humffray voted for Sicily Giant\n",
      "Jake Champ voted for Daikon\n",
      "Ben Vosper voted for Cherry Belle\n",
      "Harrison Rose voted for Red King\n",
      "Thomas Oom voted for White Icicle\n",
      "Sophie Browning voted for Red King\n",
      "Scarlett Hughes voted for Bunny Tail\n",
      "Anthony Collits voted for Champion\n",
      "Alicia Forrest voted for Sicily Giant\n",
      "Riley Leakey voted for April Cross\n",
      "Bethany Calwell voted for French Breakfast\n",
      "Leo Sheil voted for April Cross\n",
      "Kai MacMahon voted for April Cross\n",
      "Rong Kuo voted for Champion\n",
      "Stephanie Schnaars voted for White Icicle\n",
      "Bethany Bardolph voted for French Breakfast\n",
      "Guido Beneventi voted for French Breakfast\n",
      "Victoria Witt voted for Daikon\n",
      "Jun Hsiung voted for Bunny Tail\n",
      "Noah Berrick voted for Daikon\n",
      "Beato Mazzanti voted for Sicily Giant\n",
      "Anna Denning voted for White Icicle\n",
      "Sebastian George voted for Cherry Belle\n",
      "Mackenzie Andrade voted for Champion\n",
      "Sarah Joris  voted for Champion\n",
      "Joel Cassell voted for Plum Purple\n",
      "Harrison Moowattin voted for Champion\n",
      "william fenner voted for plum purple\n",
      "Madeline Corbin voted for Bunny Tail\n",
      "Sebastian Davitt voted for Champion\n",
      "Li Qin Ch'ien voted for Sicily Giant\n",
      "Owen Lea voted for Champion\n",
      "Liam Copeland voted for Champion\n",
      "Brianna Eltham voted for Sicily Giant\n",
      "Joseph Gresswell voted for Sicily Giant\n",
      "Alfonsina Marchesi voted for April Cross\n",
      "Caitlin Houlding voted for Snow Belle\n",
      "Natalie Schlapp voted for April Cross\n",
      "Shaiming Fu voted for Champion\n",
      "Lisandro Monaldo voted for Champion\n",
      "Ruby Fox voted for White Icicle\n",
      "Benjamin Rankin voted for Snow Belle\n",
      "Connor Letters voted for April Cross\n",
      "Laura Macdowell voted for Daikon\n",
      "Jake Hervey voted for April Cross\n",
      "Alyssa Batman voted for Snow Belle\n",
      "Archer Larra voted for French Breakfast\n",
      "Brayden Dixon voted for Bunny Tail\n",
      "Kuan-Yin Kuo voted for Cherry Belle\n",
      "Lucy Ley voted for Red King\n",
      "Rachele  Russo voted for Cherry Belle\n",
      "Lucy Somers voted for Daikon\n",
      "Ella Boucaut voted for Champion\n",
      "Iacopo Baresi voted for Bunny Tail\n",
      "Ali Dedman voted for White Icicle\n",
      "Victoria Edinburgh voted for French Breakfast\n",
      "Brianna Pye voted for Red King\n",
      "Joel Bruce voted for Snow Belle\n",
      "Lola Lea voted for Bunny Tail\n",
      "Zachary Burford voted for Champion\n",
      "Gabriella Bruton voted for April Cross\n",
      "Finn Dunstan voted for Cherry Belle\n",
      "Logan Truchanas voted for Red King\n",
      "beau mclarty voted for white icicle\n",
      "Carla De Luca voted for Daikon\n",
      "Taylah Reynolds voted for Champion\n",
      "Ava Musgrave voted for Bunny Tail\n",
      "Jade Grimmett voted for Bunny Tail\n",
      "Eliza Fink voted for April Cross\n",
      "Charles Tearle voted for April Cross\n",
      "Victoria Birch voted for Snow Belle\n",
      "Mackenzie Geach voted for Plum Purple\n",
      "Charles Card voted for Cherry Belle\n",
      "Olivia Warnes voted for Sicily Giant\n",
      "Jake Murdoch voted for Cherry Belle\n",
      "Brayden Massina voted for April Cross\n",
      "Sarah Milford voted for White Icicle\n",
      "Lilian Pike voted for French Breakfast\n",
      "Blake Dakin voted for Champion\n",
      "Chi Hsiung voted for April Cross\n",
      "Ludovica Siciliano voted for Sicily Giant\n",
      "Rose Leahy voted for French Breakfast\n",
      "Nicodemo Udinese voted for Bunny Tail\n",
      "Amy Harriman voted for Sicily Giant\n",
      "Harrison Macgeorge voted for Red King\n",
      "Charles Mockridge voted for Cherry Belle\n",
      "Victoria Hardie  voted for Sicily Giant\n",
      "Jake Hambly voted for Sicily Giant\n",
      "Bartolomeo Mancini voted for French Breakfast\n",
      "Maya Shackleton voted for Snow Belle\n",
      "Hudson Dodgshun voted for White Icicle\n",
      "Scarlett Sullivan voted for Snow Belle\n",
      "Noah Doyne voted for April cross\n",
      "Aidan Santo voted for Bunny Tail\n",
      "kai emmett voted for bunny tail\n",
      "Christopher Gillan voted for Daikon\n",
      "Lara Salting voted for White Icicle\n",
      "Alfonso Costa voted for Daikon\n",
      "Mackenzie Knatchbull voted for Red King\n",
      "Oliver Beit voted for Plum Purple\n",
      "Thomas Muecke voted for French Breakfast\n",
      "Sabrina Li Fonti voted for Bunny Tail\n",
      "Jasmine Brake voted for Snow Belle\n",
      "Sienna Bonnor voted for Daikon\n",
      "Isabelle Llewelyn voted for Daikon\n",
      "Amelie Farber voted for White Icicle\n",
      "Keira Horner voted for Red King\n",
      "Annabelle Colechin voted for French Breakfast\n",
      "George Schlunke voted for Daikon\n",
      "Hugo Stretch voted for French Breakfast\n",
      "Isabella Pardey voted for White Icicle\n",
      "Toby Docker voted for Red King\n",
      "Caitlyn Hotchin voted for French Breakfast\n",
      "Samuel Ansell voted for Sicily Giant\n",
      "Prospero Milano voted for Champion\n",
      "Zhi Chin voted for White Icicle\n",
      "nate brooker voted for daikon\n",
      "Elizabeth McNab voted for April Cross\n",
      "Amelie Torpy voted for Champion\n",
      "Audrey Bock voted for Bunny Tail\n",
      "Abbey Dawson voted for Plum Purple\n",
      "Hugo Coppleson voted for Daikon\n",
      "Lilly Tait voted for Red King\n",
      "Archer Frederick voted for April Cross\n",
      "Alvisio Mazzi voted for April Cross\n",
      "Chloe  MacLaurin voted for Champion\n",
      "Georgia Bruny voted for April Cross\n",
      "Caitlyn Mullah voted for White Icicle\n",
      "Gang Chia voted for Red King\n",
      "Lauren Pennefather voted for French Breakfast\n",
      "Fang Ch'eng voted for Cherry Belle\n",
      "Summer Withers voted for Snow Belle\n",
      "Kayla Sievier voted for Snow Belle\n",
      "Edoardo Sal voted for Champion\n",
      "Layla Fossey voted for April Cross\n",
      "Ella Weston voted for Champion\n",
      "Patrick Camidge voted for French Breakfast\n",
      "Erin Stretton voted for French Breakfast\n",
      "Poppy Duggan voted for Champion\n",
      "Daniel Hogben voted for Daikon\n",
      "Wan Tsai voted for Snow Belle\n",
      "Olimpia Udinesi voted for April Cross\n",
      "Xue Fang Fu voted for Daikon\n",
      "Alyssa McInnes voted for Daikon\n",
      "Connor Morphett voted for Plum Purple\n",
      "Nathan Trott voted for French Breakfast\n",
      "Brock Brunker voted for Bunny Tail\n",
      "Hayden O'Connell voted for French Breakfast\n",
      "James  Larra voted for April Cross\n",
      "Eva Geiger voted for Plum Purple\n",
      "Taj Shackell voted for White Icicle\n",
      "Eliza O'Haran voted for Champion\n",
      "Aidan Dore voted for April Cross\n",
      "Aiden Reginald voted for Plum Purple\n",
      "Bruna Rizzo voted for Snow Belle\n",
      "Alex Wemyss voted for April Cross\n",
      "claudia westgarth voted for daikon\n",
      "Jett Glynde voted for Plum Purple\n",
      "Brooke Huffer voted for Daikon\n",
      "Stephanie Synan voted for Sicily Giant\n",
      "Salvatore Sagese voted for French Breakfast\n",
      "Edgardo Mazzanti voted for Daikon\n",
      "Brodie De Lissa voted for Cherry Belle\n",
      "Cai Pan voted for Sicily Giant\n",
      "Caitlyn Ridgeway voted for Sicily Giant\n",
      "Mason Dymock voted for Plum Purple\n",
      "Oliviero Lucchesi voted for Bunny Tail\n",
      "Antonietta Baresi voted for Cherry Belle\n",
      "Abbey Cousens voted for Daikon\n",
      "Hui Hsiung voted for Cherry Belle\n",
      "Marcus Brown voted for Sicily Giant\n",
      "James Poupinel voted for Daikon\n",
      "Lucas Tomkinson voted for Champion\n",
      "Xin Qian Shih voted for White Icicle\n",
      "Abigail Clark voted for White Icicle\n",
      "Archie Gilfillan voted for French Breakfast\n",
      "maya woolcock voted for april cross\n",
      "Wei Hsiao voted for Daikon\n",
      "Lauren Rosevear voted for Red King\n",
      "Eve Gargett voted for Snow Belle\n",
      "Cristian Pisano voted for Champion\n",
      "Bianca Knopwood voted for White Icicle\n",
      "Alyssa Loewe voted for Daikon\n",
      "Feng Li voted for French Breakfast\n",
      "Yi Min Chu voted for Plum Purple\n",
      "Aiden Tasman voted for Red King\n",
      "corinna lucchese voted for champion\n",
      "Taylah Shore voted for Cherry Belle\n",
      "nilde beneventi voted for french breakfast\n",
      "edward greener voted for bunny tail\n",
      "Nate Lodewyckx voted for Sicily Giant\n",
      "Mariam Langridge voted for Red King\n",
      "Indiana Cory voted for Champion\n",
      "David Rees voted for April Cross\n",
      "Daniel Appleton voted for Red King\n",
      "Luke Leeper voted for Red King\n",
      "Toby Spring voted for French Breakfast\n",
      "Cody Laffer voted for Red King\n",
      "Lilian Woodriff voted for Plum Purple\n",
      "hudson crane voted for sicily giant\n",
      "Anthony Wand voted for Bunny Tail\n",
      "Dean Mattner voted for Red King\n",
      "Lucinda Howarde voted for Sicily Giant\n",
      "Caleb Clancy voted for Red King\n",
      "Mia Legg voted for White Icicle\n",
      "Isla Mehaffey voted for Sicily Giant\n",
      "Cooper Lasseter voted for April Cross\n",
      "Indiana Scott voted for Cherry Belle\n",
      "Kaitlyn Kay voted for French Breakfast\n",
      "Abbey Aronson voted for April Cross\n",
      "Madeleine Hartung voted for Snow Belle\n",
      "Abbey Tyas voted for Red King\n",
      "Jacob Spowers voted for Snow Belle\n",
      "Brodie Fraser voted for French Breakfast\n",
      "Ivo Lucchesi voted for Champion\n",
      "Harry Wormald voted for French Breakfast\n",
      "Lilian Macquarie voted for White Icicle\n",
      "Chelsea Warby voted for Bunny Tail\n",
      "Eugenio Pagnotto voted for Sicily Giant\n",
      "Michael Hargrave voted for Cherry Belle\n",
      "Leda Romani voted for April Cross\n",
      "Christopher Walton voted for Champion\n",
      "Zachary Bass voted for White Icicle\n",
      "jorja franklyn voted for white icicle\n",
      "Makayla Sutton voted for Plum Purple\n",
      "Shu Fang Tsou voted for French Breakfast\n",
      "Evie Carey voted for Bunny Tail\n",
      "Alannah Bleakley voted for Bunny Tail\n",
      "Alma Longo voted for Cherry Belle\n",
      "Abbey Garvin voted for Snow Belle\n",
      "Isabella Van De Velde voted for Plum Purple\n",
      "scarlett price voted for april cross\n",
      "Beau Hauslaib voted for Champion\n",
      "Isabelle Mathew voted for Sicily Giant\n",
      "Laura Callinan voted for Cherry Belle\n",
      "Cody Le Rennetel voted for French Breakfast\n",
      "Rachel Luke voted for Snow Belle\n",
      "Tristan Glynde voted for Snow Belle\n",
      "Qiao Tien voted for Bunny Tail\n",
      "Alana Meares voted for Red King\n",
      "Xiao Chen Chiang voted for Sicily Giant\n",
      "Jack Finlay voted for Cherry Belle\n",
      "Jaxon Keen  voted for Plum Purple\n",
      "Jordan Catani voted for Plum Purple\n",
      "Piera Trevisan voted for Red King\n",
      "Bailey Mussen voted for Bunny Tail\n",
      "Hayley Coverdale voted for White Icicle\n",
      "Sophie Eipper voted for Snow Belle\n",
      "Beata Endrizzi voted for Daikon\n",
      "David Moynihan voted for White Icicle\n",
      "Andrew Martens voted for French Breakfast\n",
      "Nate Higgs voted for Red King\n",
      "Isaac Banks voted for Snow Belle\n",
      "Xavier Sligo voted for Champion\n",
      "Nathan Aird  voted for Plum Purple\n",
      "Cooper Monk voted for Bunny Tail\n",
      "Kayla Kinsella voted for Champion\n",
      "Sean Maclurcan voted for Sicily Giant\n",
      "Jett Faucett voted for April Cross\n",
      "Koby Mary voted for Red King\n",
      "Lok Fan voted for Champion\n",
      "Liam Burn voted for French Breakfast\n",
      "Ryan Skeats voted for Snow Belle\n",
      "Harrison Barlee voted for Cherry Belle\n",
      "Marcus South voted for Champion\n",
      "Emily Kumm voted for  White Icicle\n",
      "Tristan Lack voted for Cherry Belle\n",
      "Rebecca Godfrey voted for Red King\n",
      "Bailey Randell voted for Red King\n",
      "Emma Slater voted for Bunny Tail\n",
      "Ellie Eaton voted for Sicily Giant\n",
      "Hamish Kevin voted for Sicily Giant\n",
      "Bella Lyttle voted for Bunny Tail\n",
      "Guang Lo voted for April Cross\n",
      "Jai Keith voted for Daikon\n",
      "Lucinda Emanuel voted for Plum Purple\n",
      "Tayla English voted for Plum Purple\n",
      "Eden Petchy voted for Daikon\n",
      "Lee Chen voted for April Cross\n",
      "Angus De Mestre voted for White Icicle\n",
      "Maya Huish voted for Snow Belle\n",
      "Emily Plante voted for White Icicle\n",
      "Connor Fairbridge voted for Bunny Tail\n",
      "Lara Cawker voted for Champion\n",
      "Blanda Panicucci voted for Bunny Tail\n",
      "Napoleone Marcelo voted for Champion\n",
      "Georgia Gillen voted for Snow Belle\n",
      "Giselda Napolitano voted for French Breakfast\n",
      "Anthony Hugo voted for Red King\n",
      "Oscar Saltau voted for April Cross\n",
      "Ashton Pearce voted for Daikon\n",
      "Kiara Maxwell-Mahon voted for White Icicle\n",
      "Sebastian Ball voted for French Breakfast\n",
      "Anna Howarde voted for Bunny Tail\n",
      "Lauren Nisbet voted for Plum Purple\n",
      "Patrick Porteus voted for Bunny Tail\n",
      "ling tuan voted for Red King\n",
      "Park Ch'en voted for Sicily Giant\n",
      "Yi Tseng voted for French Breakfast\n",
      "Angelina Dangar voted for Snow Belle\n",
      "Carolina Cattaneo voted for Snow Belle\n",
      "Sean Tait voted for Snow Belle\n",
      "Alex Falk voted for White Icicle\n",
      "oliver thirkell voted for french breakfast\n",
      "Jesse Fairley voted for Champion\n",
      "Benito Cocci voted for Snow Belle\n",
      "Laura Samuels voted for Champion\n",
      "Kuan-Yin Tao voted for Cherry Belle\n",
      "Shi She voted for Champion\n",
      "Isabella Hoffnung voted for April Cross\n",
      "George Carandini voted for White Icicle\n",
      "Sarah Bindi voted for French Breakfast\n",
      "Andrew Quick voted for April Cross\n",
      "Giosu? Romano voted for Champion\n",
      "Eva Ruth voted for Plum Purple\n",
      "Koby Gabriel voted for Champion\n",
      "Jayden Josephson voted for April Cross\n",
      "Mafalda Marchesi voted for Snow Belle\n",
      "Gabrielle Porteus voted for Daikon\n",
      "Dylan Synnot voted for Red King\n",
      "Brooke Kisch voted for Bunny Tail\n",
      "Quintilia Trentini voted for Bunny Tail\n",
      "Taj Moonlight voted for Plum Purple\n",
      "Ava Sorell voted for Bunny Tail\n",
      "Kate Buchanan voted for Sicily Giant\n",
      "Stella Inwood voted for Cherry Belle\n",
      "Cody Glauert voted for Snow Belle\n",
      "Callimaco Lombardi voted for Champion\n",
      "ella irving voted for cherry belle\n",
      "Guan-yin Hsiao voted for Red King\n",
      "alicia muscio voted for april cross\n",
      "Alana Sturdee voted for Champion\n",
      "Makayla Fairbairn voted for White Icicle\n",
      "Kaitlyn Collings voted for Bunny Tail\n",
      "Alexis Le Hunte voted for Champion\n",
      "lilian andrade voted for bunny tail\n",
      "Alannah Housley voted for Bunny Tail\n",
      "Rose Peeler voted for Champion\n",
      "Yue Wan Yeh voted for White Icicle\n",
      "Evie Langwell voted for Snow Belle\n",
      "Zoe Jasprizza voted for Red King\n",
      "Ivo Sagese voted for April Cross\n",
      "Rory Springthorpe voted for Snow Belle\n",
      "hannah gabriel voted for red king\n",
      "Jonathan Paten voted for Bunny Tail\n",
      "Jessica Rapke voted for Sicily Giant\n",
      "Jake Sterne voted for Daikon\n",
      "Lola Mashman voted for Bunny Tail\n",
      "Chan Yen voted for Cherry Belle\n",
      "Timothy Beeton voted for White Icicle\n",
      "Joseph Hill voted for Daikon\n",
      "Luke Gye voted for Plum Purple\n",
      "Giuseppe Manna voted for Sicily Giant\n",
      "Matilda Wardlaw voted for Red King\n",
      "Hannah Dibbs voted for Plum Purple\n",
      "Xavier Truman voted for French Breakfast\n",
      "Emma Sodersten voted for April Cross\n",
      "Blake Sodersten voted for French Breakfast\n",
      "Andrew Schwarz voted for Cherry Belle\n",
      "Owen Montgomery voted for Snow Belle\n",
      "Blake Hurst voted for White Icicle\n",
      "Brayden Brill voted for Cherry Belle\n",
      "Keira Strzelecki voted for Champion\n",
      "Zhen Juan Tsai voted for White Icicle\n",
      "Mulan Kung voted for Red King\n",
      "Clorinda Pugliesi voted for Champion\n",
      "Abbey Strzelecki voted for French Breakfast\n",
      "Andrew Howitt voted for April Cross\n",
      "Sebastian Langford voted for Cherry  Belle\n",
      "hayley Hinchcliffe voted for Cherry Belle\n",
      "Ebony Anton voted for Sicily Giant\n",
      "Seth Reginald voted for April Cross\n",
      "Beau Gosling voted for Plum Purple\n",
      "Christopher Moss voted for White Icicle\n",
      "laura uhr voted for red king\n",
      "Jamie Faithful voted for  Red King\n",
      "Isaac Tennyson voted for Daikon\n",
      "Gemma Norton voted for  Sicily Giant\n",
      "Matilda Madden voted for Red King\n",
      "Azeglio Napolitano voted for Red King\n",
      "David Tomlinson voted for Bunny Tail\n",
      "Christian Morris voted for Champion\n",
      "Amy Goulburn voted for April Cross\n",
      "Christopher Clunies voted for April Cross\n",
      "annabelle armytage voted for daikon\n",
      "Hunter Connely voted for Snow Belle\n",
      "Summer Stenhouse voted for April Cross\n",
      "Alicia Farmer voted for White Icicle\n",
      "Charlotte Slattery voted for Red King\n",
      "Georgia Jessop voted for Cherry Belle\n",
      "Abby Metters voted for Champion\n",
      "Madeleine Behan voted for Snow Belle\n",
      "Hayley Kernot voted for Plum Purple\n",
      "Ubaldo Trevisani voted for Champion\n",
      "Annabelle Scarfe voted for Cherry Belle\n",
      "Flynn Weingarth voted for Sicily Giant\n",
      "Indiana Keast voted for April Cross\n",
      "Wang Tien voted for French Breakfast\n",
      "Elijah Kingsbury voted for Plum Purple\n",
      "henry wright voted for sicily giant\n",
      "Meng Ni voted for Snow Belle\n",
      "Sara Coffill voted for Sicily Giant\n",
      "Giusy Lombardi voted for Plum  Purple\n",
      "Egidio Mancini voted for Sicily Giant\n",
      "Bethany Macfarlan voted for Bunny Tail\n",
      "Alexis Cowlishaw voted for Bunny Tail\n",
      "Skye Garvin voted for April Cross\n",
      "Abbey Rivett voted for Snow Belle\n",
      "Mikayla Woollacott voted for Sicily Giant\n",
      "Abbey Cochran voted for Daikon\n",
      "Jasmine Baughan voted for White Icicle\n",
      "Da-Xia Liang voted for April Cross\n",
      "Dominic Nangle voted for White Icicle\n",
      "Jesse Jury voted for Sicily Giant\n",
      "Ruby Elias voted for Daikon\n",
      "David Read voted for Bunny Tail\n",
      "Yue Yan T'ang voted for April Cross\n",
      "Qiang Tsui voted for Cherry Belle\n",
      "Grace Parkinson voted for Snow Belle\n",
      "Yue Yan Hu voted for White Icicle\n",
      "Adele Buccho voted for White Icicle\n",
      "Imogen Gertrude voted for Bunny Tail\n",
      "Kate Cyril voted for April Cross\n",
      "Zoe Canning voted for Plum Purple\n",
      "Imogen Gaunson voted for Bunny Tail\n",
      "Brayden Stretch voted for April Cross\n",
      "Jian Ts'ao voted for Plum Purple\n",
      "Gabriella Titheradge voted for Red King\n",
      "Alexis Nesbitt voted for Daikon\n",
      "Galeazzo Milanesi voted for Champion\n",
      "Eve Everingham voted for Daikon\n",
      "on h? voted for snow belle\n",
      "Archie Mathy voted for White Icicle\n",
      "Skye Reynolds voted for French Breakfast\n",
      "Ben Denovan voted for April Cross\n",
      "Pia Folliero voted for White Icicle\n",
      "Archie Michelides voted for Cherry Belle\n",
      "zane pavy voted for bunny tail\n",
      "Ramiro Esposito voted for Daikon\n",
      "Brock Eames voted for Daikon\n",
      "Savannah Sheehan voted for French Breakfast\n",
      "angus christie voted for french breakfast\n",
      "Dominic Tregurtha voted for Cherry Belle\n",
      "Molly Piguenit voted for Plum Purple\n",
      "matthew john voted for snow belle\n",
      "Koby Ledger voted for White Icicle\n",
      "Jasper Harper voted for White Icicle\n",
      "William Doyle  voted for French Breakfast\n",
      "Taj Maria voted for Sicily Giant\n",
      "Michael Elliot voted for April Cross\n",
      "Matthew Knibbs voted for Sicily Giant\n",
      "Patrick Tilly voted for White Icicle\n",
      "Sarah Kashiwagi voted for Bunny Tail\n",
      "Abbey Bouton voted for Champion\n",
      "Kayla Sandover voted for Bunny Tail\n",
      "Anna Septimus voted for French Breakfast\n",
      "Matthew Birch voted for Champion\n",
      "Mikayla Kennerley voted for French Breakfast\n",
      "Charli Birkbeck voted for Daikon\n",
      "Matilda Gullett voted for Champion\n",
      "Ella McLellan voted for April Cross\n",
      "Silvia Rossi voted for Plum Purple\n",
      "Chan Juan Hs? voted for French Breakfast\n",
      "Oliver Aspinall voted for  Cherry Belle\n",
      "Timothy Baldwinson voted for Bunny Tail\n",
      "Li Wei Chien voted for Snow Belle\n",
      "Bethany Layh voted for French Breakfast\n",
      "Gang Hsu voted for April Cross\n",
      "Mikayla Brodney voted for Champion\n",
      "Kuan-Yin Mao voted for Daikon\n",
      "Elizabeth Minifie voted for Champion\n",
      "Sarah Band voted for Sicily Giant\n",
      "Tyson Kaberry voted for French Breakfast\n",
      "Victoria Shipp voted for Cherry Belle\n",
      "Henry McCorkindale voted for French Breakfast\n",
      "William De Satg voted for Snow Belle\n",
      "Skye Atkins voted for Cherry Belle\n",
      "Sean Hogben voted for Champion\n",
      "Claire Boelke voted for Cherry Belle\n",
      "Tristan Turley voted for Snow Belle\n",
      "Tyler Hansen voted for Champion\n",
      "Caleb Ride voted for Bunny Tail\n",
      "Archer Cathcart voted for April Cross\n",
      "Hamish Helena  voted for French Breakfast\n",
      "Agostino Milanesi voted for April Cross\n",
      "lilly wunderlich voted for french breakfast\n",
      "Brooke Mahomet voted for Sicily Giant\n",
      "Seth Bramston voted for Daikon\n",
      "Archer Kirwan voted for Cherry Belle\n",
      "Ettore Marcelo voted for Champion\n",
      "Blake D'Alton voted for Sicily Giant\n",
      "Jai Burgoyne voted for Bunny Tail\n",
      "Mikayla Minogue voted for April Cross\n",
      "Thomas Catt voted for April Cross\n",
      "Oscar Cocci voted for Daikon\n",
      "Claudia Boxall voted for Plum Purple\n",
      "Imogen Macaulay voted for Snow Belle\n",
      "Tyson Platt voted for Bunny Tail\n",
      "Isabelle Camden voted for White Icicle\n",
      "Kiara Maxted voted for Daikon\n",
      "Raffaella Trevisan voted for Daikon\n",
      "Xiang Hs? voted for Plum Purple\n",
      "Hudson Greene voted for Bunny Tail\n",
      "Ruby Wakefield voted for Cherry Belle\n",
      "Matilda Macarthur-Onslow voted for Plum Purple\n",
      "Jasmine Fetherstonhaugh voted for Snow Belle\n",
      "Andrew Bower voted for Bunny Tail\n",
      "Olindo De Luca voted for Cherry Belle\n",
      "Alexis Kelynack voted for French Breakfast\n",
      "Amy Clunie voted for White Icicle\n",
      "Kang Yu voted for Cherry Belle\n",
      "Henry Birdseye voted for Snow Belle\n",
      "dominic gale voted for april cross\n",
      "Edward Edmond voted for Snow Belle\n",
      "Raul Pinto voted for Cherry Belle\n",
      "Laura Bath voted for Red King\n",
      "John Bale voted for Cherry Belle\n",
      "Margherita Milani voted for Red King\n",
      "Hudson Devine voted for Champion\n",
      "Jaxon Cowles voted for Sicily Giant\n",
      "Cameron Embley voted for Sicily Giant\n",
      "Laura Wawn voted for Cherry Belle\n",
      "Li Ming Niu voted for Cherry Belle\n",
      "Eden Sheehan voted for Cherry Belle\n",
      "Taj Bjelke-Petersen voted for French Breakfast\n",
      "Declan Winston voted for White Icicle\n",
      "Chan Chao voted for Red King\n",
      "mikayla hebblethwaite voted for sicily giant\n",
      "Tristan Monson voted for Cherry Belle\n",
      "Leah Ross-Watt voted for Plum Purple\n",
      "Hu K'ung voted for Daikon\n",
      "Kaitlyn Carnegie voted for Champion\n",
      "Victoria Brereton voted for Plum Purple\n",
      "Keira Toutcher voted for Cherry Belle\n",
      "David Morgans voted for Daikon\n",
      "Norma Fiorentino voted for Red King\n",
      "Sarah Paten voted for Sicily  Giant\n",
      "Zac Cowles voted for Sicily Giant\n",
      "Brock Fiaschi voted for French Breakfast\n",
      "Eliza Naylor voted for French Breakfast\n",
      "Imogen Raws voted for Red King\n",
      "Jesse Abercrombie voted for Snow Belle\n",
      "James Luke voted for White Icicle\n",
      "Riley Stewart voted for White Icicle\n",
      "amelia blue voted for white icicle\n",
      "Cameron Pearce voted for Red King\n",
      "Ennio DeRose voted for French Breakfast\n",
      "Samuel Henschke voted for Sicily Giant\n",
      "Blake MacFarland voted for Cherry Belle\n",
      "Mary Randall voted for Cherry Belle\n",
      "luce de luca voted for snow belle\n",
      "Marcus Derbyshire voted for Bunny Tail\n",
      "Hunter McEachern voted for Bunny Tail\n",
      "Jasper Gibney voted for French Breakfast\n",
      "Lincoln  Hoare voted for French Breakfast\n",
      "Sofia Donnithorne voted for Snow Belle\n",
      "Anthony Stuart voted for Snow Belle\n",
      "Hamish Yarnold voted for April Cross\n",
      "Lucas Schuler voted for Plum Purple\n",
      "Milla Garling voted for French Breakfast\n",
      "Abigail Wiltshire voted for Bunny Tail\n",
      "Zane Wreford voted for Snow Belle\n",
      "Sean Glew voted for Daikon\n",
      "Ryan Aird voted for Red King\n",
      "Jasper Harford voted for Champion\n",
      "Charlie McCabe voted for Bunny Tail\n",
      "Rory Evenden voted for White Icicle\n",
      "Ebony Florence voted for Snow Belle\n",
      "Flynn Poninski voted for Daikon\n",
      "Ebony Lawlor voted for Bunny Tail\n",
      "Ethan Dickson voted for Bunny Tail\n",
      "Xavier Howchin voted for Bunny Tail\n",
      "Zane Weindorfer voted for Cherry Belle\n",
      "Sienna Dann voted for Snow Belle\n",
      "Eleuterio Lombardo voted for White Icicle\n",
      "Tyler Makutz voted for Champion\n",
      "Yong Hsiao voted for White Icicle\n",
      "Erin Binnie voted for Bunny Tail\n",
      "Phoebe Barwell voted for Plum Purple\n",
      "Dylan Barney voted for French Breakfast\n",
      "Tristan Charteris voted for April Cross\n",
      "Sebastian Helmore voted for Bunny Tail\n",
      "Thomas Darcy voted for Bunny Tail\n",
      "Quinzia Costa voted for Daikon\n",
      "Da-Xia Hsiao voted for French Breakfast\n",
      "Grace Frayne voted for Sicily Giant\n",
      "Toby Queale voted for White Icicle\n",
      "Logan Lackey voted for Plum Purple\n",
      "na t'ao voted for french breakfast\n",
      "Callum Prentice voted for Plum Purple\n",
      "Levi Ferry voted for Sicily Giant\n",
      "Hsin Tan voted for April Cross\n",
      "Lara Macarthur voted for French Breakfast\n",
      "Scarlett Bruny voted for Champion\n",
      "Procopio Zito voted for white icicle\n",
      "Jamie Ham voted for Bunny Tail\n",
      "Kaitlyn Mullen voted for Daikon\n",
      "Cameron Landseer voted for April Cross\n",
      "Jasper Alfred voted for White Icicle\n",
      "Andrew Coventry voted for  Cherry Belle\n",
      "Scarlett Schonell voted for Plum Purple\n",
      "Mia Alngindabu voted for Champion\n",
      "Claire Bisdee voted for Daikon\n",
      "Gabriella Beale voted for Cherry Belle\n",
      "Rebecca Petrie voted for Snow Belle\n",
      "Alexander McKean voted for Bunny Tail\n",
      "Cody Leakey voted for Plum Purple\n",
      "Sam Scarfe voted for Sicily Giant\n",
      "Angus Langley voted for French Breakfast\n",
      "Shi Shen voted for Sicily Giant\n",
      "Park Wu voted for Champion\n",
      "Isabelle Finney voted for April Cross\n",
      "Aaron Addison voted for Plum Purple\n",
      "Ethan Macdougall voted for Champion\n",
      "cody vale voted for red king\n",
      "Aidan Clutterbuck voted for French Breakfast\n",
      "Durante Ferri voted for White Icicle\n",
      "eliana baresi voted for white icicle\n"
     ]
    }
   ],
   "source": [
    "for line in open(\"radishsurvey.txt\"):\n",
    "   line = line.strip()\n",
    "   parts = line.split(\" - \")\n",
    "   name = parts[0]\n",
    "   vote = parts[1]\n",
    "   print(name + \" voted for \" + vote) #Concat + "
   ]
  },
  {
   "cell_type": "markdown",
   "metadata": {},
   "source": [
    "What this code is doing?"
   ]
  },
  {
   "cell_type": "code",
   "execution_count": 42,
   "metadata": {
    "collapsed": false
   },
   "outputs": [
    {
     "data": {
      "text/plain": [
       "['1', '2', '3', '4', '5']"
      ]
     },
     "execution_count": 42,
     "metadata": {},
     "output_type": "execute_result"
    }
   ],
   "source": [
    "\"1,2,3,4,5\".split(\",\")"
   ]
  },
  {
   "cell_type": "code",
   "execution_count": 43,
   "metadata": {
    "collapsed": false
   },
   "outputs": [
    {
     "data": {
      "text/plain": [
       "['cheese']"
      ]
     },
     "execution_count": 43,
     "metadata": {},
     "output_type": "execute_result"
    }
   ],
   "source": [
    "\"cheese\".split(\",\")"
   ]
  },
  {
   "cell_type": "code",
   "execution_count": 44,
   "metadata": {
    "collapsed": false
   },
   "outputs": [
    {
     "data": {
      "text/plain": [
       "['Jin Li', 'White', 'Icicle']"
      ]
     },
     "execution_count": 44,
     "metadata": {},
     "output_type": "execute_result"
    }
   ],
   "source": [
    "\"Jin Li - White - Icicle\".split(\" - \")"
   ]
  },
  {
   "cell_type": "code",
   "execution_count": 45,
   "metadata": {
    "collapsed": false
   },
   "outputs": [
    {
     "data": {
      "text/plain": [
       "['Jin Li ', ' White Icicle']"
      ]
     },
     "execution_count": 45,
     "metadata": {},
     "output_type": "execute_result"
    }
   ],
   "source": [
    "\"Jin Li - White Icicle\".split(\"-\")"
   ]
  },
  {
   "cell_type": "markdown",
   "metadata": {},
   "source": [
    "Multiple assignments"
   ]
  },
  {
   "cell_type": "code",
   "execution_count": 46,
   "metadata": {
    "collapsed": false
   },
   "outputs": [
    {
     "name": "stdout",
     "output_type": "stream",
     "text": [
      "2\n",
      "1\n"
     ]
    }
   ],
   "source": [
    "a, b, c = [1, 2, 3]\n",
    "print(b)\n",
    "print(a)"
   ]
  },
  {
   "cell_type": "code",
   "execution_count": 47,
   "metadata": {
    "collapsed": false
   },
   "outputs": [
    {
     "ename": "ValueError",
     "evalue": "need more than 2 values to unpack",
     "output_type": "error",
     "traceback": [
      "\u001b[1;31m---------------------------------------------------------------------------\u001b[0m",
      "\u001b[1;31mValueError\u001b[0m                                Traceback (most recent call last)",
      "\u001b[1;32m<ipython-input-47-ed0ee24de048>\u001b[0m in \u001b[0;36m<module>\u001b[1;34m()\u001b[0m\n\u001b[1;32m----> 1\u001b[1;33m \u001b[0mx\u001b[0m\u001b[1;33m,\u001b[0m \u001b[0my\u001b[0m\u001b[1;33m,\u001b[0m \u001b[0mz\u001b[0m \u001b[1;33m=\u001b[0m \u001b[1;33m[\u001b[0m\u001b[1;36m1\u001b[0m\u001b[1;33m,\u001b[0m \u001b[1;36m2\u001b[0m\u001b[1;33m]\u001b[0m\u001b[1;33m\u001b[0m\u001b[0m\n\u001b[0m",
      "\u001b[1;31mValueError\u001b[0m: need more than 2 values to unpack"
     ]
    }
   ],
   "source": [
    "x, y, z = [1, 2]"
   ]
  },
  {
   "cell_type": "code",
   "execution_count": 48,
   "metadata": {
    "collapsed": false
   },
   "outputs": [
    {
     "name": "stdout",
     "output_type": "stream",
     "text": [
      "Fred\n",
      "Rye,Buckwheat\n"
     ]
    }
   ],
   "source": [
    "name, cheese, cracker = \"Fred,Jarlsberg,Rye,Buckwheat\".split(\",\",2)\n",
    "print(name)\n",
    "print(cracker)"
   ]
  },
  {
   "cell_type": "markdown",
   "metadata": {},
   "source": [
    "The optional argument to split is the number of times to split the string, not the number of parts to split it into. So splitting it one time creates two strings, splitting it two times creates three strings, etc. "
   ]
  },
  {
   "cell_type": "markdown",
   "metadata": {},
   "source": [
    "Counting votes"
   ]
  },
  {
   "cell_type": "code",
   "execution_count": 49,
   "metadata": {
    "collapsed": true
   },
   "outputs": [],
   "source": [
    "# Create an empty dictionary for associating radish names\n",
    "# with vote counts\n",
    "counts = {} #Dictionary\n",
    "\n",
    "for line in open(\"radishsurvey.txt\"):\n",
    "    line = line.strip()\n",
    "    name, vote = line.split(\" - \")\n",
    "    if vote not in counts:\n",
    "        # First vote for this variety\n",
    "        counts[vote] = 1\n",
    "    else:\n",
    "        # Increment the vote count\n",
    "        counts[vote] = counts[vote] + 1\n"
   ]
  },
  {
   "cell_type": "code",
   "execution_count": 50,
   "metadata": {
    "collapsed": false
   },
   "outputs": [
    {
     "name": "stdout",
     "output_type": "stream",
     "text": [
      "white icicle: 5\n",
      "Snow Belle: 58\n",
      "sicily giant: 3\n",
      "April Cross: 67\n",
      "Plum  Purple: 1\n",
      "snow belle: 3\n",
      " Plum Purple: 1\n",
      "April cross: 1\n",
      "Sicily  Giant: 1\n",
      " Snow Belle: 2\n",
      "Champion: 75\n",
      "Cherry Belle: 53\n",
      " Daikon: 1\n",
      "Bunny Tail: 68\n",
      "bunny tail: 4\n",
      "Red King: 52\n",
      "french breakfast: 7\n",
      "plum purple: 1\n",
      "White Icicle: 59\n",
      "champion: 1\n",
      "cherry belle: 2\n",
      "Daikon: 58\n",
      "Sicily Giant: 52\n",
      " plum purple: 1\n",
      "april cross: 4\n",
      " Red King: 1\n",
      "red king: 3\n",
      " White Icicle: 1\n",
      " Cherry Belle: 2\n",
      "daikon: 4\n",
      "Cherry  Belle: 1\n",
      " Sicily Giant: 1\n",
      "French Breakfast: 65\n",
      "Plum Purple: 53\n"
     ]
    }
   ],
   "source": [
    "for name in counts: #Nice printing\n",
    "    count = counts[name]\n",
    "    print(name + \": \" + str(count)) #str() returns the string equivalent of the number"
   ]
  },
  {
   "cell_type": "code",
   "execution_count": 51,
   "metadata": {
    "collapsed": false
   },
   "outputs": [
    {
     "name": "stdout",
     "output_type": "stream",
     "text": [
      "{' Cherry Belle': 2,\n",
      " ' Daikon': 1,\n",
      " ' Plum Purple': 1,\n",
      " ' Red King': 1,\n",
      " ' Sicily Giant': 1,\n",
      " ' Snow Belle': 2,\n",
      " ' White Icicle': 1,\n",
      " ' plum purple': 1,\n",
      " 'April Cross': 67,\n",
      " 'April cross': 1,\n",
      " 'Bunny Tail': 68,\n",
      " 'Champion': 75,\n",
      " 'Cherry  Belle': 1,\n",
      " 'Cherry Belle': 53,\n",
      " 'Daikon': 58,\n",
      " 'French Breakfast': 65,\n",
      " 'Plum  Purple': 1,\n",
      " 'Plum Purple': 53,\n",
      " 'Red King': 52,\n",
      " 'Sicily  Giant': 1,\n",
      " 'Sicily Giant': 52,\n",
      " 'Snow Belle': 58,\n",
      " 'White Icicle': 59,\n",
      " 'april cross': 4,\n",
      " 'bunny tail': 4,\n",
      " 'champion': 1,\n",
      " 'cherry belle': 2,\n",
      " 'daikon': 4,\n",
      " 'french breakfast': 7,\n",
      " 'plum purple': 1,\n",
      " 'red king': 3,\n",
      " 'sicily giant': 3,\n",
      " 'snow belle': 3,\n",
      " 'white icicle': 5}\n"
     ]
    }
   ],
   "source": [
    "from pprint import pprint #Easy dictionary print\n",
    "pprint(counts)"
   ]
  },
  {
   "cell_type": "markdown",
   "metadata": {},
   "source": [
    "Problems? spaces, capital letters"
   ]
  },
  {
   "cell_type": "markdown",
   "metadata": {},
   "source": [
    "Cleaning data - striping spaces using strip(only one char before and after each word), capitlizing, removing extra spaces with replace"
   ]
  },
  {
   "cell_type": "code",
   "execution_count": 52,
   "metadata": {
    "collapsed": false
   },
   "outputs": [
    {
     "name": "stdout",
     "output_type": "stream",
     "text": [
      "{'April cross': 72,\n",
      " 'Bunny tail': 72,\n",
      " 'Champion': 76,\n",
      " 'Cherry belle': 58,\n",
      " 'Daikon': 63,\n",
      " 'French breakfast': 72,\n",
      " 'Plum purple': 57,\n",
      " 'Red king': 56,\n",
      " 'Sicily giant': 57,\n",
      " 'Snow belle': 63,\n",
      " 'White icicle': 65}\n"
     ]
    }
   ],
   "source": [
    "# Create an empty dictionary for associating radish names\n",
    "# with vote counts\n",
    "counts = {}\n",
    "\n",
    "for line in open(\"radishsurvey.txt\"):\n",
    "    line = line.strip()\n",
    "    name, vote = line.split(\" - \")\n",
    "    # munge the vote string to clean it up\n",
    "    vote = vote.strip().capitalize().replace(\"  \", \" \") ########## striping spaces and capitalizing\n",
    "    if not vote in counts:\n",
    "        # First vote for this variety\n",
    "        counts[vote] = 1\n",
    "    else:\n",
    "        # Increment the vote count\n",
    "        counts[vote] = counts[vote] + 1\n",
    "pprint(counts)"
   ]
  },
  {
   "cell_type": "markdown",
   "metadata": {},
   "source": [
    "Check if anyone voted twice"
   ]
  },
  {
   "cell_type": "code",
   "execution_count": 53,
   "metadata": {
    "collapsed": false
   },
   "outputs": [
    {
     "name": "stdout",
     "output_type": "stream",
     "text": [
      "Phoebe barwell has already voted! Fraud!\n",
      "Procopio zito has already voted! Fraud!\n",
      "Results:\n",
      "{'April cross': 72,\n",
      " 'Bunny tail': 72,\n",
      " 'Champion': 76,\n",
      " 'Cherry belle': 58,\n",
      " 'Daikon': 63,\n",
      " 'French breakfast': 72,\n",
      " 'Plum purple': 56,\n",
      " 'Red king': 56,\n",
      " 'Sicily giant': 57,\n",
      " 'Snow belle': 63,\n",
      " 'White icicle': 64}\n"
     ]
    }
   ],
   "source": [
    "# Create an empty dictionary for associating radish names\n",
    "# with vote counts\n",
    "counts = {}\n",
    "\n",
    "# Create an empty list with the names of everyone who voted\n",
    "voted = []\n",
    "\n",
    "for line in open(\"radishsurvey.txt\"):\n",
    "    line = line.strip()\n",
    "    name, vote = line.split(\" - \")\n",
    "    # clean up the person's name\n",
    "    name = name.strip().capitalize().replace(\"  \",\" \")\n",
    "    # check if this person already voted\n",
    "    if name in voted:\n",
    "        print(name + \" has already voted! Fraud!\")\n",
    "        continue # go to next iteration\n",
    "    voted.append(name)\n",
    "    # munge the vote string to clean it up\n",
    "    vote = vote.strip().capitalize().replace(\"  \",\" \")\n",
    "    if not vote in counts:\n",
    "        # First vote for this variety\n",
    "        counts[vote] = 1\n",
    "    else:\n",
    "        # Increment the vote count\n",
    "        counts[vote] += 1 # similar to C\n",
    "\n",
    "print(\"Results:\")\n",
    "pprint(counts)"
   ]
  },
  {
   "cell_type": "markdown",
   "metadata": {},
   "source": [
    "Better programing"
   ]
  },
  {
   "cell_type": "code",
   "execution_count": null,
   "metadata": {
    "collapsed": true
   },
   "outputs": [],
   "source": [
    "# Create an empty dictionary for associating radish names\n",
    "# with vote counts\n",
    "counts = {}\n",
    "\n",
    "# Create an empty list with the names of everyone who voted\n",
    "voted = []\n",
    "\n",
    "# Clean up (munge) a string so it's easy to match against other     strings\n",
    "def clean_string(s):\n",
    "    return s.strip().capitalize().replace(\"  \",\" \")\n",
    "\n",
    "# Check if someone has voted already and return True or False\n",
    "def has_already_voted(name):\n",
    "    if name in voted:\n",
    "        print(name + \" has already voted! Fraud!\")\n",
    "        return True\n",
    "    return False\n",
    "\n",
    "# Count a vote for the radish variety named 'radish'\n",
    "def count_vote(radish):\n",
    "    if not radish in counts:\n",
    "        # First vote for this variety\n",
    "        counts[radish] = 1\n",
    "    else:\n",
    "        # Increment the radish count\n",
    "        counts[radish] = counts[radish] + 1\n",
    "\n",
    "\n",
    "for line in open(\"radishsurvey.txt\"):\n",
    "    line = line.strip()\n",
    "    name, vote = line.split(\" - \")\n",
    "    name = clean_string(name)\n",
    "    vote = clean_string(vote)\n",
    "\n",
    "    if not has_already_voted(name):\n",
    "        count_vote(vote)\n",
    "    voted.append(name)\n",
    "\n",
    "print(\"Results:\")\n",
    "pprint(counts)"
   ]
  },
  {
   "cell_type": "code",
   "execution_count": null,
   "metadata": {
    "collapsed": false
   },
   "outputs": [],
   "source": [
    "import matplotlib.pyplot as plt\n",
    "import numpy as np\n",
    "\n",
    "names = []\n",
    "votes = []\n",
    "# Split the dictionary of name:votes into two lists, one for names and one for vote count\n",
    "for radish in counts:\n",
    "    names.append(radish)\n",
    "    votes.append(counts[radish])\n",
    "\n",
    "# The X axis can just be numbered 0,1,2,3...\n",
    "x = np.arange(len(counts))\n",
    "\n",
    "plt.bar(x, votes)\n",
    "plt.xticks(x + 0.5, names, rotation=90)"
   ]
  },
  {
   "cell_type": "code",
   "execution_count": null,
   "metadata": {
    "collapsed": false
   },
   "outputs": [],
   "source": []
  },
  {
   "cell_type": "code",
   "execution_count": null,
   "metadata": {
    "collapsed": true
   },
   "outputs": [],
   "source": []
  }
 ],
 "metadata": {
  "kernelspec": {
   "display_name": "Python 3",
   "language": "python",
   "name": "python3"
  },
  "language_info": {
   "codemirror_mode": {
    "name": "ipython",
    "version": 3
   },
   "file_extension": ".py",
   "mimetype": "text/x-python",
   "name": "python",
   "nbconvert_exporter": "python",
   "pygments_lexer": "ipython3",
   "version": "3.6.0"
  }
 },
 "nbformat": 4,
 "nbformat_minor": 0
}
